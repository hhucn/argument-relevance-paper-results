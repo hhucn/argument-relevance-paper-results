{
 "cells": [
  {
   "cell_type": "code",
   "execution_count": 1,
   "metadata": {
    "pycharm": {
     "is_executing": false
    }
   },
   "outputs": [],
   "source": [
    "import pandas as pd\n",
    "import json"
   ]
  },
  {
   "cell_type": "code",
   "execution_count": 2,
   "metadata": {
    "pycharm": {
     "is_executing": false
    }
   },
   "outputs": [
    {
     "data": {
      "text/plain": "   Argument ID  Conclusion ID  \\\n0            1              2   \n1            2              3   \n2            3              6   \n\n                                     Conclusion Text  Number of Premises  \\\n0  they eyes too slanty and can't see they laws r...                   1   \n1  I would say laying off Americans and moving th...                   1   \n2                a tweet is fundamentally valueless.                   1   \n\n   Premise ID                                       Premise Text   Premise ID  \\\n0           1  To all those that are making this about a coun...          NaN   \n1           4  The new Indian Nazism The exact same thing tha...          NaN   \n2           5  3.it's not valueless: the people in Iran prote...          NaN   \n\n   Premise Text  Premise ID.1 Premise Text.1  ...  Unnamed: 12 Unnamed: 13  \\\n0           NaN           NaN            NaN  ...          NaN         NaN   \n1           NaN           NaN            NaN  ...          NaN         NaN   \n2           NaN           NaN            NaN  ...          NaN         NaN   \n\n   Unnamed: 14 Unnamed: 15  Unnamed: 16 Unnamed: 17  Unnamed: 18 Unnamed: 19  \\\n0          NaN         NaN          NaN         NaN          NaN         NaN   \n1          NaN         NaN          NaN         NaN          NaN         NaN   \n2          NaN         NaN          NaN         NaN          NaN         NaN   \n\n   Unnamed: 20 Unnamed: 21  \n0          NaN         NaN  \n1          NaN         NaN  \n2          NaN         NaN  \n\n[3 rows x 22 columns]",
      "text/html": "<div>\n<style scoped>\n    .dataframe tbody tr th:only-of-type {\n        vertical-align: middle;\n    }\n\n    .dataframe tbody tr th {\n        vertical-align: top;\n    }\n\n    .dataframe thead th {\n        text-align: right;\n    }\n</style>\n<table border=\"1\" class=\"dataframe\">\n  <thead>\n    <tr style=\"text-align: right;\">\n      <th></th>\n      <th>Argument ID</th>\n      <th>Conclusion ID</th>\n      <th>Conclusion Text</th>\n      <th>Number of Premises</th>\n      <th>Premise ID</th>\n      <th>Premise Text</th>\n      <th>Premise ID</th>\n      <th>Premise Text</th>\n      <th>Premise ID.1</th>\n      <th>Premise Text.1</th>\n      <th>...</th>\n      <th>Unnamed: 12</th>\n      <th>Unnamed: 13</th>\n      <th>Unnamed: 14</th>\n      <th>Unnamed: 15</th>\n      <th>Unnamed: 16</th>\n      <th>Unnamed: 17</th>\n      <th>Unnamed: 18</th>\n      <th>Unnamed: 19</th>\n      <th>Unnamed: 20</th>\n      <th>Unnamed: 21</th>\n    </tr>\n  </thead>\n  <tbody>\n    <tr>\n      <th>0</th>\n      <td>1</td>\n      <td>2</td>\n      <td>they eyes too slanty and can't see they laws r...</td>\n      <td>1</td>\n      <td>1</td>\n      <td>To all those that are making this about a coun...</td>\n      <td>NaN</td>\n      <td>NaN</td>\n      <td>NaN</td>\n      <td>NaN</td>\n      <td>...</td>\n      <td>NaN</td>\n      <td>NaN</td>\n      <td>NaN</td>\n      <td>NaN</td>\n      <td>NaN</td>\n      <td>NaN</td>\n      <td>NaN</td>\n      <td>NaN</td>\n      <td>NaN</td>\n      <td>NaN</td>\n    </tr>\n    <tr>\n      <th>1</th>\n      <td>2</td>\n      <td>3</td>\n      <td>I would say laying off Americans and moving th...</td>\n      <td>1</td>\n      <td>4</td>\n      <td>The new Indian Nazism The exact same thing tha...</td>\n      <td>NaN</td>\n      <td>NaN</td>\n      <td>NaN</td>\n      <td>NaN</td>\n      <td>...</td>\n      <td>NaN</td>\n      <td>NaN</td>\n      <td>NaN</td>\n      <td>NaN</td>\n      <td>NaN</td>\n      <td>NaN</td>\n      <td>NaN</td>\n      <td>NaN</td>\n      <td>NaN</td>\n      <td>NaN</td>\n    </tr>\n    <tr>\n      <th>2</th>\n      <td>3</td>\n      <td>6</td>\n      <td>a tweet is fundamentally valueless.</td>\n      <td>1</td>\n      <td>5</td>\n      <td>3.it's not valueless: the people in Iran prote...</td>\n      <td>NaN</td>\n      <td>NaN</td>\n      <td>NaN</td>\n      <td>NaN</td>\n      <td>...</td>\n      <td>NaN</td>\n      <td>NaN</td>\n      <td>NaN</td>\n      <td>NaN</td>\n      <td>NaN</td>\n      <td>NaN</td>\n      <td>NaN</td>\n      <td>NaN</td>\n      <td>NaN</td>\n      <td>NaN</td>\n    </tr>\n  </tbody>\n</table>\n<p>3 rows × 22 columns</p>\n</div>"
     },
     "metadata": {},
     "output_type": "execute_result",
     "execution_count": 2
    }
   ],
   "source": [
    "argument_list = pd.read_csv(\"../Webis-ArgRank-17-Dataset/argument-list.csv\", delimiter=',')\n",
    "argument_list.head(3)"
   ]
  },
  {
   "cell_type": "code",
   "execution_count": 3,
   "metadata": {
    "pycharm": {
     "is_executing": false
    }
   },
   "outputs": [
    {
     "data": {
      "text/plain": "Index(['Argument ID', 'Conclusion ID', 'Conclusion Text', 'Number of Premises',\n       'Premise ID', 'Premise Text', ' Premise ID', ' Premise Text',\n       'Premise ID.1', 'Premise Text.1', 'Unnamed: 10', 'Unnamed: 11',\n       'Unnamed: 12', 'Unnamed: 13', 'Unnamed: 14', 'Unnamed: 15',\n       'Unnamed: 16', 'Unnamed: 17', 'Unnamed: 18', 'Unnamed: 19',\n       'Unnamed: 20', 'Unnamed: 21'],\n      dtype='object')"
     },
     "metadata": {},
     "output_type": "execute_result",
     "execution_count": 3
    }
   ],
   "source": [
    "argument_list.keys()"
   ]
  },
  {
   "cell_type": "markdown",
   "metadata": {},
   "source": [
    "# Groundtruth Construction"
   ]
  },
  {
   "cell_type": "code",
   "execution_count": 4,
   "metadata": {
    "pycharm": {
     "is_executing": false
    }
   },
   "outputs": [],
   "source": [
    "Groundtruth = {\n",
    "    \"nodes\": [],\n",
    "    \"edges\": []\n",
    "}"
   ]
  },
  {
   "cell_type": "code",
   "execution_count": 5,
   "metadata": {
    "pycharm": {
     "is_executing": false
    }
   },
   "outputs": [],
   "source": [
    "for _, row in argument_list.iterrows():\n",
    "    number_of_premises = row['Number of Premises']\n",
    "    conclusion_id = row['Conclusion ID']\n",
    "    premise_ids = [int(premise_id) for premise_id in row[4:].dropna().to_list() if type(premise_id) != str]\n",
    "    if number_of_premises != len(premise_ids):\n",
    "        break\n",
    "    Groundtruth['nodes'] += [conclusion_id]\n",
    "    Groundtruth['nodes'] += premise_ids\n",
    "    for premise_id in premise_ids:\n",
    "        Groundtruth['edges'] += [(conclusion_id, premise_id)]"
   ]
  },
  {
   "cell_type": "markdown",
   "metadata": {},
   "source": [
    "# Clean up Graph"
   ]
  },
  {
   "cell_type": "code",
   "execution_count": 6,
   "metadata": {
    "pycharm": {
     "is_executing": false
    }
   },
   "outputs": [],
   "source": [
    "Groundtruth['nodes'] = list(set(Groundtruth['nodes']))\n",
    "Groundtruth['edges'] = list(set(Groundtruth['edges']))"
   ]
  },
  {
   "cell_type": "markdown",
   "metadata": {},
   "source": [
    "# Is the directed Graph equivalent to the Preparation"
   ]
  },
  {
   "cell_type": "code",
   "execution_count": 7,
   "metadata": {
    "pycharm": {
     "is_executing": false
    }
   },
   "outputs": [
    {
     "data": {
      "text/plain": "(True, True)"
     },
     "metadata": {},
     "output_type": "execute_result",
     "execution_count": 7
    }
   ],
   "source": [
    "len(Groundtruth['nodes']) == 28800, len(Groundtruth['edges']) == 19222"
   ]
  },
  {
   "cell_type": "markdown",
   "metadata": {},
   "source": [
    "# Write the Groundtruth to Json"
   ]
  },
  {
   "cell_type": "code",
   "execution_count": 8,
   "metadata": {
    "pycharm": {
     "is_executing": false
    }
   },
   "outputs": [],
   "source": [
    "with open('./groundtruth.json', 'w') as file:\n",
    "    json.dump(Groundtruth, file)"
   ]
  }
 ],
 "metadata": {
  "kernelspec": {
   "name": "python3",
   "language": "python",
   "display_name": "Python 3"
  },
  "language_info": {
   "codemirror_mode": {
    "name": "ipython",
    "version": 3
   },
   "file_extension": ".py",
   "mimetype": "text/x-python",
   "name": "python",
   "nbconvert_exporter": "python",
   "pygments_lexer": "ipython3",
   "version": "3.7.6"
  },
  "pycharm": {
   "stem_cell": {
    "cell_type": "raw",
    "source": [],
    "metadata": {
     "collapsed": false
    }
   }
  }
 },
 "nbformat": 4,
 "nbformat_minor": 2
}