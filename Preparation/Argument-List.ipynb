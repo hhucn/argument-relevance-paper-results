{
 "cells": [
  {
   "cell_type": "code",
   "execution_count": 1,
   "metadata": {
    "pycharm": {
     "is_executing": false
    }
   },
   "outputs": [],
   "source": [
    "import pandas as pd"
   ]
  },
  {
   "cell_type": "markdown",
   "metadata": {},
   "source": [
    "In Zeile 2009 wurde aus dem String O quadro é cinzento: der String O quadro é cinzento, da es Probleme damit gab.\n",
    "\n",
    "Struktur des Datensatzes\n",
    "\n",
    "| Argument ID | Conclusion ID | Conclusion Text | Number of Premises | Premise ID 1 | Premise Text 1 | ... | Premise ID n-1 | Premise Text n-1 |\n",
    "|-------------|---------------|-----------------|--------------------|--------------|----------------|-----|--------------|----------------|\n",
    "| Integer     | Integer       | String          | Integer            | Integer      | String         | ... | Integer      | String         |\n"
   ]
  },
  {
   "cell_type": "code",
   "execution_count": 2,
   "metadata": {
    "pycharm": {
     "is_executing": false
    }
   },
   "outputs": [],
   "source": [
    "frame = pd.read_csv(\"../Webis-ArgRank-17-Dataset/argument-list.csv\", delimiter=',')"
   ]
  },
  {
   "cell_type": "code",
   "execution_count": 3,
   "metadata": {
    "pycharm": {
     "is_executing": false
    }
   },
   "outputs": [
    {
     "data": {
      "text/plain": "Index(['Argument ID', 'Conclusion ID', 'Conclusion Text', 'Number of Premises',\n       'Premise ID', 'Premise Text', ' Premise ID', ' Premise Text',\n       'Premise ID.1', 'Premise Text.1', 'Unnamed: 10', 'Unnamed: 11',\n       'Unnamed: 12', 'Unnamed: 13', 'Unnamed: 14', 'Unnamed: 15',\n       'Unnamed: 16', 'Unnamed: 17', 'Unnamed: 18', 'Unnamed: 19',\n       'Unnamed: 20', 'Unnamed: 21'],\n      dtype='object')"
     },
     "metadata": {},
     "output_type": "execute_result",
     "execution_count": 3
    }
   ],
   "source": [
    "frame.keys()"
   ]
  },
  {
   "cell_type": "code",
   "execution_count": 4,
   "metadata": {
    "pycharm": {
     "is_executing": false
    }
   },
   "outputs": [],
   "source": [
    "conclusions = set(frame['Conclusion ID'].dropna())"
   ]
  },
  {
   "cell_type": "code",
   "execution_count": 5,
   "metadata": {
    "pycharm": {
     "is_executing": false
    }
   },
   "outputs": [],
   "source": [
    "premises1 = set(frame['Premise ID'].dropna())\n",
    "premises2 = set(frame[' Premise ID'].dropna())\n",
    "premises3 = set(frame['Premise ID.1'].dropna())\n",
    "premises4 = set(frame['Unnamed: 10'].dropna())\n",
    "premises5 = set(frame['Unnamed: 12'].dropna())\n",
    "premises6 = set(frame['Unnamed: 14'].dropna())\n",
    "premises7 = set(frame['Unnamed: 16'].dropna())\n",
    "premises8 = set(frame['Unnamed: 18'].dropna())\n",
    "premises9 = set(frame['Unnamed: 20'].dropna())\n",
    "all_premises = premises1.union(premises2).union(premises3).union(premises4).union(premises5).union(premises6).union(premises7).union(premises8).union(premises9)"
   ]
  },
  {
   "cell_type": "code",
   "execution_count": 6,
   "metadata": {
    "pycharm": {
     "is_executing": false
    }
   },
   "outputs": [],
   "source": [
    "intersection = conclusions.intersection(all_premises)"
   ]
  },
  {
   "cell_type": "code",
   "execution_count": 7,
   "metadata": {
    "pycharm": {
     "is_executing": false
    }
   },
   "outputs": [
    {
     "data": {
      "text/plain": "(0.17340717122559712, 17877)"
     },
     "metadata": {},
     "output_type": "execute_result",
     "execution_count": 7
    }
   ],
   "source": [
    "len(intersection)/len(frame), len(frame)"
   ]
  },
  {
   "cell_type": "markdown",
   "metadata": {},
   "source": [
    "Das File \"argument-unit-list.csv\" enthält alle 31000 Argumente in Form von Argument Units.\n",
    "\n",
    "Für die Argument Units liegen enstprechend die IDs für Conclusion bzw. Premise vor.\n",
    "\n",
    "Das File \"argument-list.csv\" alle 17877 Argumente aus AIFdb.\n",
    "\n",
    "Jede Zeile besteht aus einer Conclusion und den dazugehörigen Premises.\n",
    "\n",
    "Der Argument-Graph setzt sich dabei aus den Argumenten zusammen.\n",
    "\n",
    "Kanten können über die Verbindung von Argument-Units erstellt werden (C<-(P/C)<-P).\n",
    "\n",
    "Insgesamt werden in \"argument-list.csv\" 17.34% der Conclusions als Premises verwendet."
   ]
  },
  {
   "cell_type": "code",
   "execution_count": 7,
   "metadata": {
    "pycharm": {
     "is_executing": false
    }
   },
   "outputs": [],
   "source": []
  }
 ],
 "metadata": {
  "kernelspec": {
   "name": "python3",
   "language": "python",
   "display_name": "Python 3"
  },
  "language_info": {
   "codemirror_mode": {
    "name": "ipython",
    "version": 3
   },
   "file_extension": ".py",
   "mimetype": "text/x-python",
   "name": "python",
   "nbconvert_exporter": "python",
   "pygments_lexer": "ipython3",
   "version": "3.7.6"
  }
 },
 "nbformat": 4,
 "nbformat_minor": 2
}