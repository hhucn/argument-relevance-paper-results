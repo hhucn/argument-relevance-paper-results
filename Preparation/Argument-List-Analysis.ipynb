{
 "cells": [
  {
   "cell_type": "code",
   "execution_count": 1,
   "metadata": {
    "pycharm": {
     "is_executing": false
    }
   },
   "outputs": [],
   "source": [
    "import pandas as pd\n",
    "from collections import Counter\n",
    "import matplotlib.pyplot as plt\n",
    "import math"
   ]
  },
  {
   "cell_type": "code",
   "execution_count": 2,
   "metadata": {
    "pycharm": {
     "is_executing": false
    }
   },
   "outputs": [
    {
     "data": {
      "text/plain": "   Argument ID  Conclusion ID  \\\n0            1              2   \n1            2              3   \n2            3              6   \n\n                                     Conclusion Text  Number of Premises  \\\n0  they eyes too slanty and can't see they laws r...                   1   \n1  I would say laying off Americans and moving th...                   1   \n2                a tweet is fundamentally valueless.                   1   \n\n   Premise ID                                       Premise Text   Premise ID  \\\n0           1  To all those that are making this about a coun...          NaN   \n1           4  The new Indian Nazism The exact same thing tha...          NaN   \n2           5  3.it's not valueless: the people in Iran prote...          NaN   \n\n   Premise Text  Premise ID.1 Premise Text.1  ...  Unnamed: 12 Unnamed: 13  \\\n0           NaN           NaN            NaN  ...          NaN         NaN   \n1           NaN           NaN            NaN  ...          NaN         NaN   \n2           NaN           NaN            NaN  ...          NaN         NaN   \n\n   Unnamed: 14 Unnamed: 15  Unnamed: 16 Unnamed: 17  Unnamed: 18 Unnamed: 19  \\\n0          NaN         NaN          NaN         NaN          NaN         NaN   \n1          NaN         NaN          NaN         NaN          NaN         NaN   \n2          NaN         NaN          NaN         NaN          NaN         NaN   \n\n   Unnamed: 20 Unnamed: 21  \n0          NaN         NaN  \n1          NaN         NaN  \n2          NaN         NaN  \n\n[3 rows x 22 columns]",
      "text/html": "<div>\n<style scoped>\n    .dataframe tbody tr th:only-of-type {\n        vertical-align: middle;\n    }\n\n    .dataframe tbody tr th {\n        vertical-align: top;\n    }\n\n    .dataframe thead th {\n        text-align: right;\n    }\n</style>\n<table border=\"1\" class=\"dataframe\">\n  <thead>\n    <tr style=\"text-align: right;\">\n      <th></th>\n      <th>Argument ID</th>\n      <th>Conclusion ID</th>\n      <th>Conclusion Text</th>\n      <th>Number of Premises</th>\n      <th>Premise ID</th>\n      <th>Premise Text</th>\n      <th>Premise ID</th>\n      <th>Premise Text</th>\n      <th>Premise ID.1</th>\n      <th>Premise Text.1</th>\n      <th>...</th>\n      <th>Unnamed: 12</th>\n      <th>Unnamed: 13</th>\n      <th>Unnamed: 14</th>\n      <th>Unnamed: 15</th>\n      <th>Unnamed: 16</th>\n      <th>Unnamed: 17</th>\n      <th>Unnamed: 18</th>\n      <th>Unnamed: 19</th>\n      <th>Unnamed: 20</th>\n      <th>Unnamed: 21</th>\n    </tr>\n  </thead>\n  <tbody>\n    <tr>\n      <th>0</th>\n      <td>1</td>\n      <td>2</td>\n      <td>they eyes too slanty and can't see they laws r...</td>\n      <td>1</td>\n      <td>1</td>\n      <td>To all those that are making this about a coun...</td>\n      <td>NaN</td>\n      <td>NaN</td>\n      <td>NaN</td>\n      <td>NaN</td>\n      <td>...</td>\n      <td>NaN</td>\n      <td>NaN</td>\n      <td>NaN</td>\n      <td>NaN</td>\n      <td>NaN</td>\n      <td>NaN</td>\n      <td>NaN</td>\n      <td>NaN</td>\n      <td>NaN</td>\n      <td>NaN</td>\n    </tr>\n    <tr>\n      <th>1</th>\n      <td>2</td>\n      <td>3</td>\n      <td>I would say laying off Americans and moving th...</td>\n      <td>1</td>\n      <td>4</td>\n      <td>The new Indian Nazism The exact same thing tha...</td>\n      <td>NaN</td>\n      <td>NaN</td>\n      <td>NaN</td>\n      <td>NaN</td>\n      <td>...</td>\n      <td>NaN</td>\n      <td>NaN</td>\n      <td>NaN</td>\n      <td>NaN</td>\n      <td>NaN</td>\n      <td>NaN</td>\n      <td>NaN</td>\n      <td>NaN</td>\n      <td>NaN</td>\n      <td>NaN</td>\n    </tr>\n    <tr>\n      <th>2</th>\n      <td>3</td>\n      <td>6</td>\n      <td>a tweet is fundamentally valueless.</td>\n      <td>1</td>\n      <td>5</td>\n      <td>3.it's not valueless: the people in Iran prote...</td>\n      <td>NaN</td>\n      <td>NaN</td>\n      <td>NaN</td>\n      <td>NaN</td>\n      <td>...</td>\n      <td>NaN</td>\n      <td>NaN</td>\n      <td>NaN</td>\n      <td>NaN</td>\n      <td>NaN</td>\n      <td>NaN</td>\n      <td>NaN</td>\n      <td>NaN</td>\n      <td>NaN</td>\n      <td>NaN</td>\n    </tr>\n  </tbody>\n</table>\n<p>3 rows × 22 columns</p>\n</div>"
     },
     "metadata": {},
     "output_type": "execute_result",
     "execution_count": 2
    }
   ],
   "source": [
    "frame_list = pd.read_csv(\"../Webis-ArgRank-17-Dataset/argument-list.csv\", delimiter=',')\n",
    "frame_list.head(3)"
   ]
  },
  {
   "cell_type": "code",
   "execution_count": 3,
   "metadata": {
    "pycharm": {
     "is_executing": false
    }
   },
   "outputs": [
    {
     "data": {
      "text/plain": "   Argument Unit ID                                 Argument Unit Text  \\\n0                 1  To all those that are making this about a coun...   \n1                 2  they eyes too slanty and can't see they laws r...   \n2                 3  I would say laying off Americans and moving th...   \n\n   Frequency  PageRank   \n0          3   0.000058  \n1         12   0.000071  \n2          1   0.000021  ",
      "text/html": "<div>\n<style scoped>\n    .dataframe tbody tr th:only-of-type {\n        vertical-align: middle;\n    }\n\n    .dataframe tbody tr th {\n        vertical-align: top;\n    }\n\n    .dataframe thead th {\n        text-align: right;\n    }\n</style>\n<table border=\"1\" class=\"dataframe\">\n  <thead>\n    <tr style=\"text-align: right;\">\n      <th></th>\n      <th>Argument Unit ID</th>\n      <th>Argument Unit Text</th>\n      <th>Frequency</th>\n      <th>PageRank</th>\n    </tr>\n  </thead>\n  <tbody>\n    <tr>\n      <th>0</th>\n      <td>1</td>\n      <td>To all those that are making this about a coun...</td>\n      <td>3</td>\n      <td>0.000058</td>\n    </tr>\n    <tr>\n      <th>1</th>\n      <td>2</td>\n      <td>they eyes too slanty and can't see they laws r...</td>\n      <td>12</td>\n      <td>0.000071</td>\n    </tr>\n    <tr>\n      <th>2</th>\n      <td>3</td>\n      <td>I would say laying off Americans and moving th...</td>\n      <td>1</td>\n      <td>0.000021</td>\n    </tr>\n  </tbody>\n</table>\n</div>"
     },
     "metadata": {},
     "output_type": "execute_result",
     "execution_count": 3
    }
   ],
   "source": [
    "frame_unit = pd.read_csv(\"../Webis-ArgRank-17-Dataset/argument-unit-list.csv\", delimiter=',')\n",
    "frame_unit.head(3)"
   ]
  },
  {
   "cell_type": "code",
   "execution_count": 4,
   "metadata": {
    "pycharm": {
     "is_executing": false
    }
   },
   "outputs": [
    {
     "data": {
      "text/plain": "(17877, 31080)"
     },
     "metadata": {},
     "output_type": "execute_result",
     "execution_count": 4
    }
   ],
   "source": [
    "len(frame_list), len(frame_unit)"
   ]
  },
  {
   "cell_type": "code",
   "execution_count": 5,
   "metadata": {
    "pycharm": {
     "is_executing": false
    }
   },
   "outputs": [
    {
     "data": {
      "text/plain": "13710"
     },
     "metadata": {},
     "output_type": "execute_result",
     "execution_count": 5
    }
   ],
   "source": [
    "len(set(list(frame_list['Conclusion ID'])))"
   ]
  },
  {
   "cell_type": "markdown",
   "metadata": {},
   "source": [
    "# Page 41 Figure (a)"
   ]
  },
  {
   "cell_type": "code",
   "execution_count": 6,
   "metadata": {
    "pycharm": {
     "is_executing": false
    }
   },
   "outputs": [
    {
     "data": {
      "text/plain": "{'1': 11723,\n '2': 1243,\n '3': 362,\n '4': 176,\n '5-9': 165,\n '10-122': 41,\n '0': 17370}"
     },
     "metadata": {},
     "output_type": "execute_result",
     "execution_count": 6
    }
   ],
   "source": [
    "counter = Counter(list(frame_list['Conclusion ID']))\n",
    "\n",
    "counter_dict = {\n",
    "        \"1\":0,\n",
    "        \"2\":0,\n",
    "        \"3\":0,\n",
    "        \"4\":0,\n",
    "        \"5-9\":0,\n",
    "        \"10-122\":0\n",
    "       }\n",
    "\n",
    "for value in counter.values():\n",
    "    if value == 1:\n",
    "        counter_dict[\"1\"] += 1\n",
    "    elif value == 2:\n",
    "        counter_dict[\"2\"] += 1\n",
    "    elif value == 3:\n",
    "        counter_dict[\"3\"] += 1\n",
    "    elif value == 4:\n",
    "        counter_dict[\"4\"] += 1\n",
    "    elif 5<=value<=9:\n",
    "        counter_dict[\"5-9\"] += 1\n",
    "    elif 10<=value<=122:\n",
    "        counter_dict[\"10-122\"] += 1\n",
    "        \n",
    "counter_dict[\"0\"] = len(frame_unit)-sum(counter_dict.values())\n",
    "\n",
    "hist = {}\n",
    "\n",
    "for key in [\"0\", \"1\", \"2\", \"3\", \"4\", \"5-9\", \"10-122\"]:\n",
    "    hist[key] = counter_dict[key]\n",
    "counter_dict"
   ]
  },
  {
   "cell_type": "code",
   "execution_count": 7,
   "metadata": {
    "pycharm": {
     "is_executing": false
    }
   },
   "outputs": [
    {
     "data": {
      "text/plain": "({'1': 11723,\n  '2': 1243,\n  '3': 362,\n  '4': 176,\n  '5-9': 165,\n  '10-122': 41,\n  '0': 17370},\n 31080)"
     },
     "metadata": {},
     "output_type": "execute_result",
     "execution_count": 7
    }
   ],
   "source": [
    "counter_dict, sum(counter_dict.values())"
   ]
  },
  {
   "cell_type": "code",
   "execution_count": 8,
   "metadata": {
    "pycharm": {
     "is_executing": false
    }
   },
   "outputs": [
    {
     "data": {
      "text/plain": "<BarContainer object of 7 artists>"
     },
     "metadata": {},
     "output_type": "execute_result",
     "execution_count": 8
    },
    {
     "data": {
      "text/plain": "<Figure size 432x288 with 1 Axes>",
      "image/png": "[encoded data removed]"
     },
     "metadata": {
      "needs_background": "light"
     },
     "output_type": "display_data"
    }
   ],
   "source": [
    "plt.bar(hist.keys(), hist.values(), 0.3, color='blue')"
   ]
  },
  {
   "cell_type": "markdown",
   "metadata": {},
   "source": [
    "# Page 40 Figure (b)"
   ]
  },
  {
   "cell_type": "code",
   "execution_count": 9,
   "metadata": {
    "pycharm": {
     "is_executing": false
    }
   },
   "outputs": [],
   "source": [
    "counter2 = {}\n",
    "for _, x in frame_list.iterrows():\n",
    "    c_id = x['Conclusion ID']\n",
    "    p_numbers = x['Number of Premises']\n",
    "    if c_id not in counter2.keys():\n",
    "        counter2[c_id] = p_numbers\n",
    "    else:\n",
    "        counter2[c_id] += p_numbers"
   ]
  },
  {
   "cell_type": "code",
   "execution_count": 10,
   "metadata": {
    "pycharm": {
     "is_executing": false
    }
   },
   "outputs": [
    {
     "data": {
      "text/plain": "{'1': 10596,\n '2': 1849,\n '3': 662,\n '4': 287,\n '5-9': 266,\n '10-122': 50,\n '0': 17370}"
     },
     "metadata": {},
     "output_type": "execute_result",
     "execution_count": 10
    }
   ],
   "source": [
    "counter_dict2 = {\n",
    "        \"1\":0,\n",
    "        \"2\":0,\n",
    "        \"3\":0,\n",
    "        \"4\":0,\n",
    "        \"5-9\":0,\n",
    "        \"10-122\":0\n",
    "       }\n",
    "for value in counter2.values():\n",
    "    if value == 1:\n",
    "        counter_dict2[\"1\"] += 1\n",
    "    elif value == 2:\n",
    "        counter_dict2[\"2\"] += 1\n",
    "    elif value == 3:\n",
    "        counter_dict2[\"3\"] += 1\n",
    "    elif value == 4:\n",
    "        counter_dict2[\"4\"] += 1\n",
    "    elif 5<=value<=9:\n",
    "        counter_dict2[\"5-9\"] += 1\n",
    "    elif 10<=value<=122:\n",
    "        counter_dict2[\"10-122\"] += 1\n",
    "\n",
    "counter_dict2[\"0\"] = len(frame_unit)-sum(counter_dict2.values())\n",
    "\n",
    "hist2 = {}\n",
    "\n",
    "for key in [\"0\", \"1\", \"2\", \"3\", \"4\", \"5-9\", \"10-122\"]:\n",
    "    hist2[key] = counter_dict2[key]\n",
    "counter_dict2"
   ]
  },
  {
   "cell_type": "code",
   "execution_count": 11,
   "metadata": {
    "pycharm": {
     "is_executing": false
    }
   },
   "outputs": [
    {
     "data": {
      "text/plain": "({'1': 10596,\n  '2': 1849,\n  '3': 662,\n  '4': 287,\n  '5-9': 266,\n  '10-122': 50,\n  '0': 17370},\n 31080)"
     },
     "metadata": {},
     "output_type": "execute_result",
     "execution_count": 11
    }
   ],
   "source": [
    "counter_dict2, sum(counter_dict2.values())"
   ]
  },
  {
   "cell_type": "code",
   "execution_count": 12,
   "metadata": {
    "pycharm": {
     "is_executing": false
    }
   },
   "outputs": [
    {
     "data": {
      "text/plain": "<BarContainer object of 7 artists>"
     },
     "metadata": {},
     "output_type": "execute_result",
     "execution_count": 12
    },
    {
     "data": {
      "text/plain": "<Figure size 432x288 with 1 Axes>",
      "image/png": "[encoded data removed]"
     },
     "metadata": {
      "needs_background": "light"
     },
     "output_type": "display_data"
    }
   ],
   "source": [
    "plt.bar(hist2.keys(), hist2.values(), 0.3, color='blue')"
   ]
  },
  {
   "cell_type": "markdown",
   "metadata": {},
   "source": [
    "# Page 40 Figure (a)"
   ]
  },
  {
   "cell_type": "code",
   "execution_count": 13,
   "metadata": {
    "pycharm": {
     "is_executing": false
    }
   },
   "outputs": [],
   "source": [
    "counter3 = {}\n",
    "for _, row in frame_list.iterrows():\n",
    "    for premise_id in row[4:]:\n",
    "        if type(premise_id) == int or type(premise_id) == float and not math.isnan(premise_id):\n",
    "            if int(premise_id) not in counter3.keys():\n",
    "                counter3[int(premise_id)] = 1\n",
    "            else:\n",
    "                counter3[int(premise_id)] += 1"
   ]
  },
  {
   "cell_type": "code",
   "execution_count": 14,
   "metadata": {
    "pycharm": {
     "is_executing": false
    }
   },
   "outputs": [
    {
     "data": {
      "text/plain": "{'1': 17096, '2': 693, '3': 172, '4': 123, '5': 96, '6-8': 10, '0': 12890}"
     },
     "metadata": {},
     "output_type": "execute_result",
     "execution_count": 14
    }
   ],
   "source": [
    "counter_dict3 = {\n",
    "        \"1\":0,\n",
    "        \"2\":0,\n",
    "        \"3\":0,\n",
    "        \"4\":0,\n",
    "        \"5\":0,\n",
    "        \"6-8\":0\n",
    "       }\n",
    "for value in counter3.values():\n",
    "    if value == 1:\n",
    "        counter_dict3[\"1\"] += 1\n",
    "    elif value == 2:\n",
    "        counter_dict3[\"2\"] += 1\n",
    "    elif value == 3:\n",
    "        counter_dict3[\"3\"] += 1\n",
    "    elif value == 4:\n",
    "        counter_dict3[\"4\"] += 1\n",
    "    elif value == 5:\n",
    "        counter_dict3[\"5\"] += 1\n",
    "    elif 6<=value<=8:\n",
    "        counter_dict3[\"6-8\"] += 1\n",
    "\n",
    "counter_dict3[\"0\"] = len(frame_unit)-sum(counter_dict3.values())\n",
    "\n",
    "hist3 = {}\n",
    "\n",
    "for key in [\"0\", \"1\", \"2\", \"3\", \"4\", \"5\", \"6-8\"]:\n",
    "    hist3[key] = counter_dict3[key]\n",
    "counter_dict3"
   ]
  },
  {
   "cell_type": "code",
   "execution_count": 15,
   "metadata": {
    "pycharm": {
     "is_executing": false
    }
   },
   "outputs": [
    {
     "data": {
      "text/plain": "({'1': 17096, '2': 693, '3': 172, '4': 123, '5': 96, '6-8': 10, '0': 12890},\n 31080)"
     },
     "metadata": {},
     "output_type": "execute_result",
     "execution_count": 15
    }
   ],
   "source": [
    "counter_dict3, sum(counter_dict3.values())"
   ]
  },
  {
   "cell_type": "code",
   "execution_count": 16,
   "metadata": {
    "pycharm": {
     "is_executing": false
    }
   },
   "outputs": [
    {
     "data": {
      "text/plain": "<BarContainer object of 7 artists>"
     },
     "metadata": {},
     "output_type": "execute_result",
     "execution_count": 16
    },
    {
     "data": {
      "text/plain": "<Figure size 432x288 with 1 Axes>",
      "image/png": "[encoded data removed]"
     },
     "metadata": {
      "needs_background": "light"
     },
     "output_type": "display_data"
    }
   ],
   "source": [
    "plt.bar(hist3.keys(), hist3.values(), 0.3, color='blue')"
   ]
  },
  {
   "cell_type": "markdown",
   "metadata": {},
   "source": [
    "# Page 41 Figure (b)"
   ]
  },
  {
   "cell_type": "code",
   "execution_count": 17,
   "metadata": {
    "pycharm": {
     "is_executing": false
    }
   },
   "outputs": [
    {
     "data": {
      "text/plain": "{'1': 16244, '2': 1214, '3': 348, '4': 52, '5': 10, '6': 6, '7-9': 3}"
     },
     "metadata": {},
     "output_type": "execute_result",
     "execution_count": 17
    }
   ],
   "source": [
    "hist4 = {\n",
    "        \"1\":0,\n",
    "        \"2\":0,\n",
    "        \"3\":0,\n",
    "        \"4\":0,\n",
    "        \"5\":0,\n",
    "        \"6\":0,\n",
    "        \"7-9\":0\n",
    "       }\n",
    "\n",
    "for _, row in frame_list.iterrows():\n",
    "    p_count = row[\"Number of Premises\"]\n",
    "    if p_count == 1:\n",
    "        hist4[\"1\"] += 1\n",
    "    elif p_count == 2:\n",
    "        hist4[\"2\"] += 1\n",
    "    elif p_count == 3:\n",
    "        hist4[\"3\"] += 1\n",
    "    elif p_count == 4:\n",
    "        hist4[\"4\"] += 1\n",
    "    elif p_count == 5:\n",
    "        hist4[\"5\"] += 1\n",
    "    elif p_count == 6:\n",
    "        hist4[\"6\"] += 1\n",
    "    elif 7 <= p_count <= 9:\n",
    "        hist4[\"7-9\"] += 1\n",
    "    \n",
    "hist4"
   ]
  },
  {
   "cell_type": "code",
   "execution_count": 18,
   "metadata": {
    "pycharm": {
     "is_executing": false
    }
   },
   "outputs": [
    {
     "data": {
      "text/plain": "({'1': 16244, '2': 1214, '3': 348, '4': 52, '5': 10, '6': 6, '7-9': 3},\n 17877,\n 17877)"
     },
     "metadata": {},
     "output_type": "execute_result",
     "execution_count": 18
    }
   ],
   "source": [
    "hist4, sum(hist4.values()), len(frame_list)"
   ]
  },
  {
   "cell_type": "code",
   "execution_count": 19,
   "metadata": {
    "pycharm": {
     "is_executing": false
    }
   },
   "outputs": [
    {
     "data": {
      "text/plain": "<BarContainer object of 7 artists>"
     },
     "metadata": {},
     "output_type": "execute_result",
     "execution_count": 19
    },
    {
     "data": {
      "text/plain": "<Figure size 432x288 with 1 Axes>",
      "image/png": "[encoded data removed]"
     },
     "metadata": {
      "needs_background": "light"
     },
     "output_type": "display_data"
    }
   ],
   "source": [
    "plt.bar(hist4.keys(), hist4.values(), 0.3, color='blue')"
   ]
  },
  {
   "cell_type": "markdown",
   "metadata": {},
   "source": [
    "# Are there realy those 3113 conclusions participating in more then one argument?"
   ]
  },
  {
   "cell_type": "code",
   "execution_count": 20,
   "metadata": {
    "pycharm": {
     "is_executing": false
    }
   },
   "outputs": [
    {
     "data": {
      "text/plain": "3114"
     },
     "metadata": {},
     "output_type": "execute_result",
     "execution_count": 20
    }
   ],
   "source": [
    "n_conclusions = 0\n",
    "for key in counter_dict2.keys():\n",
    "    if key not in ['0', '1']:\n",
    "        n_conclusions += counter_dict2[key]\n",
    "n_conclusions"
   ]
  }
 ],
 "metadata": {
  "kernelspec": {
   "name": "python3",
   "language": "python",
   "display_name": "Python 3"
  },
  "language_info": {
   "codemirror_mode": {
    "name": "ipython",
    "version": 3
   },
   "file_extension": ".py",
   "mimetype": "text/x-python",
   "name": "python",
   "nbconvert_exporter": "python",
   "pygments_lexer": "ipython3",
   "version": "3.7.6"
  },
  "pycharm": {
   "stem_cell": {
    "cell_type": "raw",
    "source": [],
    "metadata": {
     "collapsed": false
    }
   }
  }
 },
 "nbformat": 4,
 "nbformat_minor": 2
}