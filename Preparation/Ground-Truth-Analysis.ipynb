{
 "cells": [
  {
   "cell_type": "code",
   "execution_count": 1,
   "metadata": {},
   "outputs": [],
   "source": [
    "import pandas as pd\n",
    "import matplotlib.pyplot as plt\n",
    "from collections import Counter"
   ]
  },
  {
   "cell_type": "code",
   "execution_count": 2,
   "metadata": {},
   "outputs": [
    {
     "data": {
      "text/html": [
       "<div>\n",
       "<style scoped>\n",
       "    .dataframe tbody tr th:only-of-type {\n",
       "        vertical-align: middle;\n",
       "    }\n",
       "\n",
       "    .dataframe tbody tr th {\n",
       "        vertical-align: top;\n",
       "    }\n",
       "\n",
       "    .dataframe thead th {\n",
       "        text-align: right;\n",
       "    }\n",
       "</style>\n",
       "<table border=\"1\" class=\"dataframe\">\n",
       "  <thead>\n",
       "    <tr style=\"text-align: right;\">\n",
       "      <th></th>\n",
       "      <th>Argument ID</th>\n",
       "      <th>Aggregate rank</th>\n",
       "      <th>Mean rank</th>\n",
       "      <th>Rank annotator 1</th>\n",
       "      <th>Rank annotator 2</th>\n",
       "      <th>Rank annotator 3</th>\n",
       "      <th>Rank annotator 4</th>\n",
       "      <th>Rank annotator 5</th>\n",
       "      <th>Rank annotator 6</th>\n",
       "      <th>Rank annotator 7</th>\n",
       "      <th>...</th>\n",
       "      <th>Premise 1 text</th>\n",
       "      <th>Premise 2 argument unit ID</th>\n",
       "      <th>Premise 2 text</th>\n",
       "      <th>Premise 3 argument unit ID</th>\n",
       "      <th>Premise 3 text</th>\n",
       "      <th>Premise 4 argument unit ID</th>\n",
       "      <th>Premise 4 text</th>\n",
       "      <th>Unnamed: 23</th>\n",
       "      <th>Unnamed: 24</th>\n",
       "      <th>Unnamed: 25</th>\n",
       "    </tr>\n",
       "  </thead>\n",
       "  <tbody>\n",
       "    <tr>\n",
       "      <th>0</th>\n",
       "      <td>3895</td>\n",
       "      <td>2</td>\n",
       "      <td>1.714286</td>\n",
       "      <td>2</td>\n",
       "      <td>1</td>\n",
       "      <td>2</td>\n",
       "      <td>2</td>\n",
       "      <td>2</td>\n",
       "      <td>2</td>\n",
       "      <td>1</td>\n",
       "      <td>...</td>\n",
       "      <td>3D printing is a very beneficial tool to socie...</td>\n",
       "      <td></td>\n",
       "      <td>NaN</td>\n",
       "      <td></td>\n",
       "      <td>NaN</td>\n",
       "      <td></td>\n",
       "      <td>NaN</td>\n",
       "      <td>NaN</td>\n",
       "      <td>NaN</td>\n",
       "      <td>NaN</td>\n",
       "    </tr>\n",
       "    <tr>\n",
       "      <th>1</th>\n",
       "      <td>3892</td>\n",
       "      <td>1</td>\n",
       "      <td>1.285714</td>\n",
       "      <td>1</td>\n",
       "      <td>2</td>\n",
       "      <td>1</td>\n",
       "      <td>1</td>\n",
       "      <td>1</td>\n",
       "      <td>1</td>\n",
       "      <td>2</td>\n",
       "      <td>...</td>\n",
       "      <td>It will provide many jobs in a variety of diff...</td>\n",
       "      <td></td>\n",
       "      <td>NaN</td>\n",
       "      <td></td>\n",
       "      <td>NaN</td>\n",
       "      <td></td>\n",
       "      <td>NaN</td>\n",
       "      <td>NaN</td>\n",
       "      <td>NaN</td>\n",
       "      <td>NaN</td>\n",
       "    </tr>\n",
       "    <tr>\n",
       "      <th>2</th>\n",
       "      <td>16349</td>\n",
       "      <td>2</td>\n",
       "      <td>1.714286</td>\n",
       "      <td>2</td>\n",
       "      <td>1</td>\n",
       "      <td>1</td>\n",
       "      <td>2</td>\n",
       "      <td>2</td>\n",
       "      <td>2</td>\n",
       "      <td>2</td>\n",
       "      <td>...</td>\n",
       "      <td>If used where civilians are present the size o...</td>\n",
       "      <td>25532</td>\n",
       "      <td>The use of weapons to kill citizens is conside...</td>\n",
       "      <td></td>\n",
       "      <td>NaN</td>\n",
       "      <td></td>\n",
       "      <td>NaN</td>\n",
       "      <td>NaN</td>\n",
       "      <td>NaN</td>\n",
       "      <td>NaN</td>\n",
       "    </tr>\n",
       "  </tbody>\n",
       "</table>\n",
       "<p>3 rows × 26 columns</p>\n",
       "</div>"
      ],
      "text/plain": [
       "   Argument ID  Aggregate rank  Mean rank  Rank annotator 1  Rank annotator 2  \\\n",
       "0         3895               2   1.714286                 2                 1   \n",
       "1         3892               1   1.285714                 1                 2   \n",
       "2        16349               2   1.714286                 2                 1   \n",
       "\n",
       "   Rank annotator 3  Rank annotator 4  Rank annotator 5  Rank annotator 6  \\\n",
       "0                 2                 2                 2                 2   \n",
       "1                 1                 1                 1                 1   \n",
       "2                 1                 2                 2                 2   \n",
       "\n",
       "   Rank annotator 7  ...                                     Premise 1 text  \\\n",
       "0                 1  ...  3D printing is a very beneficial tool to socie...   \n",
       "1                 2  ...  It will provide many jobs in a variety of diff...   \n",
       "2                 2  ...  If used where civilians are present the size o...   \n",
       "\n",
       "  Premise 2 argument unit ID  \\\n",
       "0                              \n",
       "1                              \n",
       "2                      25532   \n",
       "\n",
       "                                      Premise 2 text  \\\n",
       "0                                                NaN   \n",
       "1                                                NaN   \n",
       "2  The use of weapons to kill citizens is conside...   \n",
       "\n",
       "  Premise 3 argument unit ID Premise 3 text Premise 4 argument unit ID  \\\n",
       "0                                       NaN                              \n",
       "1                                       NaN                              \n",
       "2                                       NaN                              \n",
       "\n",
       "  Premise 4 text Unnamed: 23 Unnamed: 24 Unnamed: 25  \n",
       "0            NaN         NaN         NaN         NaN  \n",
       "1            NaN         NaN         NaN         NaN  \n",
       "2            NaN         NaN         NaN         NaN  \n",
       "\n",
       "[3 rows x 26 columns]"
      ]
     },
     "execution_count": 2,
     "metadata": {},
     "output_type": "execute_result"
    }
   ],
   "source": [
    "frame_list = pd.read_csv(\"../Webis-ArgRank-17-Dataset/ground-truth-list.csv\"\"\", delimiter=',')\n",
    "frame_list.head(3)"
   ]
  },
  {
   "cell_type": "code",
   "execution_count": 3,
   "metadata": {},
   "outputs": [],
   "source": [
    "hist = Counter(frame_list['Number of premises'])"
   ]
  },
  {
   "cell_type": "code",
   "execution_count": 4,
   "metadata": {},
   "outputs": [
    {
     "data": {
      "text/plain": [
       "<BarContainer object of 4 artists>"
      ]
     },
     "execution_count": 4,
     "metadata": {},
     "output_type": "execute_result"
    },
    {
     "data": {
      "image/png": "[encoded data removed]",
      "text/plain": [
       "<Figure size 432x288 with 1 Axes>"
      ]
     },
     "metadata": {
      "needs_background": "light"
     },
     "output_type": "display_data"
    }
   ],
   "source": [
    "plt.bar(hist.keys(), hist.values(), 0.5, color='blue')"
   ]
  },
  {
   "cell_type": "code",
   "execution_count": 5,
   "metadata": {},
   "outputs": [],
   "source": [
    "tmp = Counter(Counter(frame_list['Conclusion argument unit ID']).values())\n",
    "hist2 = {}\n",
    "for key in [2, 3, 4, 5, 6]:\n",
    "    hist2[key] = tmp[key]"
   ]
  },
  {
   "cell_type": "code",
   "execution_count": 6,
   "metadata": {},
   "outputs": [
    {
     "data": {
      "text/plain": [
       "<BarContainer object of 5 artists>"
      ]
     },
     "execution_count": 6,
     "metadata": {},
     "output_type": "execute_result"
    },
    {
     "data": {
      "image/png": "[encoded data removed]",
      "text/plain": [
       "<Figure size 432x288 with 1 Axes>"
      ]
     },
     "metadata": {
      "needs_background": "light"
     },
     "output_type": "display_data"
    }
   ],
   "source": [
    "plt.bar(hist2.keys(), hist2.values(), 0.5, color='blue')"
   ]
  }
 ],
 "metadata": {
  "kernelspec": {
   "name": "python3",
   "language": "python",
   "display_name": "Python 3"
  },
  "language_info": {
   "codemirror_mode": {
    "name": "ipython",
    "version": 3
   },
   "file_extension": ".py",
   "mimetype": "text/x-python",
   "name": "python",
   "nbconvert_exporter": "python",
   "pygments_lexer": "ipython3",
   "version": "3.7.6"
  }
 },
 "nbformat": 4,
 "nbformat_minor": 2
}