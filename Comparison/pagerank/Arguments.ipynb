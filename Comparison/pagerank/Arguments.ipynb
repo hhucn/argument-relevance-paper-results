{
 "cells": [
  {
   "cell_type": "code",
   "execution_count": 10,
   "metadata": {
    "collapsed": true,
    "pycharm": {
     "is_executing": false
    }
   },
   "outputs": [],
   "source": [
    "import nltk\n",
    "import pandas as pd\n",
    "\n",
    "from utils import PATH_GROUND_TRUTH_LIST"
   ]
  },
  {
   "cell_type": "code",
   "execution_count": 2,
   "outputs": [],
   "source": [
    "ground_truth = pd.read_csv(PATH_GROUND_TRUTH_LIST)"
   ],
   "metadata": {
    "collapsed": false,
    "pycharm": {
     "name": "#%%\n",
     "is_executing": false
    }
   }
  },
  {
   "cell_type": "code",
   "execution_count": 20,
   "outputs": [
    {
     "name": "stdout",
     "text": [
      "############ 3969 ############\n",
      "Rank: 1\n",
      "Corrected Conclusion: I would support a full ban of peanut products on any airline.\n",
      "Corrected Premise: Peanut reactions can be life threatening. An individual doesn't have to consume the product to have a life threatening reaction. They can have contact or inhalation reactions.\n",
      "############ 3971 ############\n",
      "Rank: 2\n",
      "Corrected Conclusion: I would support a full ban of peanut products on any airline.\n",
      "Corrected Premise: Providing buffer zones to avoid contact with peanuts is a thoughtful gesture. But from a practical point of view, it does not work.\n",
      "############ 3970 ############\n",
      "Rank: 4\n",
      "Corrected Conclusion: I would support a full ban of peanut products on any airline.\n",
      "Corrected Premise: Restricting the ban of peanut producs to certain flights is not enough.\n",
      "############ 3972 ############\n",
      "Rank: 3\n",
      "Corrected Conclusion: I would support a full ban of peanut products on any airline.\n",
      "Corrected Premise: With so many food choices available, why are peanuts a necessary choice?\n"
     ],
     "output_type": "stream"
    }
   ],
   "source": [
    "for row in ground_truth.iterrows():\n",
    "    row = row[1]\n",
    "    if \"airline\" in str(row['Conclusion text']):\n",
    "        print(\"############ \"+str(row['Argument ID'])+\" ############\")\n",
    "        conclusion = row['Corrected conclusion string']\n",
    "        premise = row['Corrected premises text']\n",
    "        pos_conclusion = nltk.pos_tag(nltk.word_tokenize(conclusion, language='english'))\n",
    "        pos_premise = nltk.pos_tag(nltk.word_tokenize(premise, language='english'))\n",
    "        print('Rank: ' + str(row['Aggregate rank']))\n",
    "        print('Corrected Conclusion: ' + conclusion)\n",
    "        #for word, tag in pos_conclusion:\n",
    "        #    syns = wordnet.synsets(word)\n",
    "        #    if syns:\n",
    "        #        print(word, syns)\n",
    "        print('Corrected Premise: ' + premise)\n",
    "        #for word, tag in pos_premise:\n",
    "        #    syns = wordnet.synsets(word)\n",
    "        #    if syns:\n",
    "        #        print(word, syns)"
   ],
   "metadata": {
    "collapsed": false,
    "pycharm": {
     "name": "#%%\n",
     "is_executing": false
    }
   }
  }
 ],
 "metadata": {
  "kernelspec": {
   "display_name": "Python 3",
   "language": "python",
   "name": "python3"
  },
  "language_info": {
   "codemirror_mode": {
    "name": "ipython",
    "version": 2
   },
   "file_extension": ".py",
   "mimetype": "text/x-python",
   "name": "python",
   "nbconvert_exporter": "python",
   "pygments_lexer": "ipython2",
   "version": "2.7.6"
  },
  "pycharm": {
   "stem_cell": {
    "cell_type": "raw",
    "source": [],
    "metadata": {
     "collapsed": false
    }
   }
  }
 },
 "nbformat": 4,
 "nbformat_minor": 0
}